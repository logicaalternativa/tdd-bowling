{
 "cells": [
  {
   "cell_type": "markdown",
   "id": "reported-group",
   "metadata": {},
   "source": [
    "# Juego de Bolos"
   ]
  },
  {
   "cell_type": "markdown",
   "id": "coordinate-addition",
   "metadata": {},
   "source": [
    "## Reglas de los bolos\n",
    "\n",
    "Una partida típica de bolos consiste en 10 juegos o tiradas donde cada juego consta de dos lanzamientos a menos que se realice un pleno (o strike o chuza o moñona, derribar los 10 bolos con un solo tiro de la bola), en cuyo caso no se vuelve a lanzar en ese juego. \n",
    "\n",
    "El juego consta de 10 juegos o tiradas. En cada cuadro el jugador tiene dos lazanmientos para derribar 10 bolos. La puntuación de cada juego  es el número total de bolos derribados, más las bonificaciones por strikes y spares.\n",
    "\n",
    "Un **spare** es cuando el jugador derriba los 10 bolos en dos tiradas. La bonificación para ese juego es el número de bolos derribados en la siguiente tirada.\n",
    "\n",
    "Un **strike** es cuando el jugador derriba los 10 bolos en su primera tirada. La jugada se completa con una sola tirada. La bonificación para ese jugada es el valor de las dos tiradas siguientes.\n"
   ]
  },
  {
   "cell_type": "markdown",
   "id": "collaborative-intelligence",
   "metadata": {},
   "source": [
    "# El primer test\n",
    "\n",
    "## 1.1 Instanciar la clase\n",
    "\n",
    "Empezamos ni siquiera a crear la clase, simplemente en el Test definimos el contrato que va a tener la clase a probar"
   ]
  },
  {
   "cell_type": "markdown",
   "id": "under-background",
   "metadata": {},
   "source": [
    "### Test framework\n",
    "\n",
    "Primero generamos un poco de framework para toda la kata.\n"
   ]
  },
  {
   "cell_type": "code",
   "execution_count": null,
   "id": "unusual-government",
   "metadata": {},
   "outputs": [],
   "source": [
    "sealed trait TestState\n",
    "case object Green extends TestState\n",
    "case object Red extends TestState"
   ]
  },
  {
   "cell_type": "markdown",
   "id": "original-language",
   "metadata": {},
   "source": [
    "### Código \n",
    "\n",
    "Pon aquí tu código para que pase el test de más abajo"
   ]
  },
  {
   "cell_type": "markdown",
   "id": "saved-singles",
   "metadata": {},
   "source": [
    "#### Define el contrato (trait)"
   ]
  },
  {
   "cell_type": "code",
   "execution_count": null,
   "id": "sitting-architecture",
   "metadata": {},
   "outputs": [],
   "source": []
  },
  {
   "cell_type": "markdown",
   "id": "editorial-catalyst",
   "metadata": {},
   "source": [
    "#### Define la clase"
   ]
  },
  {
   "cell_type": "code",
   "execution_count": null,
   "id": "incorrect-police",
   "metadata": {},
   "outputs": [],
   "source": []
  },
  {
   "cell_type": "markdown",
   "id": "listed-expert",
   "metadata": {},
   "source": [
    "### Test\n",
    "\n",
    "A partir de los requerimientos empezamos a diseñar la clase, a traves de la generación del test\n",
    "\n",
    "Debería pasar a verde"
   ]
  },
  {
   "cell_type": "code",
   "execution_count": null,
   "id": "miniature-cotton",
   "metadata": {},
   "outputs": [],
   "source": [
    "object Test extends App {   \n",
    "    \n",
    "    def testGutterGame() : TestState = {\n",
    "        val g: IGame = new Game()\n",
    "        Green\n",
    "    }\n",
    "    \n",
    "    println ( s\"TEST :: testGutterGame() -> ${testGutterGame()} \")\n",
    "}\n",
    "\n",
    "Test.main(Array())"
   ]
  },
  {
   "cell_type": "markdown",
   "id": "personal-electricity",
   "metadata": {},
   "source": [
    "## 1.2 Inicializar el juego\n",
    "\n",
    "### Código\n",
    "\n",
    "En este paso hay que definir el contrato y la implementación para que pase el test de más abajo"
   ]
  },
  {
   "cell_type": "markdown",
   "id": "theoretical-beauty",
   "metadata": {},
   "source": [
    "#### Define el contrato (trait)"
   ]
  },
  {
   "cell_type": "code",
   "execution_count": null,
   "id": "asian-fifth",
   "metadata": {},
   "outputs": [],
   "source": []
  },
  {
   "cell_type": "markdown",
   "id": "reflected-timing",
   "metadata": {},
   "source": [
    "#### Define la clase y la implementación\n",
    "\n",
    "Codifica la clase para que pase el test de más abajo"
   ]
  },
  {
   "cell_type": "code",
   "execution_count": null,
   "id": "finnish-freedom",
   "metadata": {},
   "outputs": [],
   "source": []
  },
  {
   "cell_type": "markdown",
   "id": "noble-twist",
   "metadata": {},
   "source": [
    "### Test"
   ]
  },
  {
   "cell_type": "code",
   "execution_count": null,
   "id": "concerned-binding",
   "metadata": {},
   "outputs": [],
   "source": [
    "object Test extends App {\n",
    "    \n",
    "    def testGutterGame() : TestState = {\n",
    "        val g: IGame = new Game()\n",
    "        for (_ <- 0 until 20) {\n",
    "            g.roll(0)            \n",
    "        }\n",
    "        if ( g.score() == 0 ) Green else Red\n",
    "    }\n",
    "    \n",
    "    println ( s\"TEST :: testGutterGame() -> ${testGutterGame()} \")\n",
    "}\n",
    "\n",
    "Test.main(Array())"
   ]
  },
  {
   "cell_type": "markdown",
   "id": "coordinate-james",
   "metadata": {},
   "source": [
    "# 2. Segundo test\n",
    "\n",
    "## 2.1"
   ]
  },
  {
   "cell_type": "markdown",
   "id": "opposite-mirror",
   "metadata": {},
   "source": [
    "### Test\n",
    "\n",
    "Se empieza a jugar con otros valores sencillos de puntuación"
   ]
  },
  {
   "cell_type": "code",
   "execution_count": null,
   "id": "small-parks",
   "metadata": {},
   "outputs": [],
   "source": [
    "object Test extends App {\n",
    "    \n",
    "    def testGutterGame() : TestState = {\n",
    "        val g : IGame = new Game()\n",
    "        for (_ <- 0 until 20) {\n",
    "            g.roll(0)            \n",
    "        }\n",
    "        if ( g.score() == 0 ) Green else Red\n",
    "    }\n",
    "    \n",
    "    def testAllOnes() : TestState = {\n",
    "        val g : IGame = new Game()\n",
    "        for (_ <- 0 until 20) {\n",
    "            g.roll(1)            \n",
    "        }\n",
    "        if ( g.score() == 20 ) Green else Red\n",
    "    }\n",
    "    \n",
    "    \n",
    "    println ( s\"TEST :: testGutterGame() -> ${testGutterGame()} \")\n",
    "    println ( s\"TEST :: testAllOnes()    -> ${testAllOnes()} \")\n",
    "}\n",
    "\n",
    "Test.main(Array())"
   ]
  },
  {
   "cell_type": "markdown",
   "id": "rental-camel",
   "metadata": {},
   "source": [
    "### Código\n",
    "\n",
    "Codifica la clase para que todos los test pasen a **`GREEN`**"
   ]
  },
  {
   "cell_type": "code",
   "execution_count": null,
   "id": "opponent-amber",
   "metadata": {},
   "outputs": [],
   "source": []
  },
  {
   "cell_type": "markdown",
   "id": "greek-bryan",
   "metadata": {},
   "source": [
    "## 2.2 Refactorizar el test\n",
    "\n",
    "Los test son la documentación de tu codigo. Hay que darle cariño para que sean lo más sencillo de leer y que puedan ser leidos por una persona no técnica. Para que sea más legible (usar `rolMany`). Completar el test\n",
    "\n"
   ]
  },
  {
   "cell_type": "markdown",
   "id": "alive-satellite",
   "metadata": {},
   "source": [
    "### Azucar sintactico\n",
    "\n",
    "Scala tiene la ventaja que está pensado para cread DSL legibles. Aquí un poco de azucar sintáctico"
   ]
  },
  {
   "cell_type": "code",
   "execution_count": null,
   "id": "considerable-independence",
   "metadata": {},
   "outputs": [],
   "source": [
    "implicit class IntOps( current: Int ) {\n",
    "    \n",
    "    import Test._\n",
    "    \n",
    "    def shouldBe( expected: Int ): TestState = {\n",
    "        \n",
    "        if ( expected == current ) Green else Red\n",
    "    }\n",
    "    \n",
    "}\n"
   ]
  },
  {
   "cell_type": "markdown",
   "id": "hybrid-shakespeare",
   "metadata": {},
   "source": [
    "### Test\n",
    "\n",
    "Aquí se propone el método `rollMany` y el método `setUp`\n"
   ]
  },
  {
   "cell_type": "code",
   "execution_count": null,
   "id": "circular-broadcast",
   "metadata": {},
   "outputs": [],
   "source": [
    "object Test extends App {\n",
    "    \n",
    "    def setUp() : IGame = ???\n",
    " \n",
    "    def rollMany(rolls : Int, pins: Int)( implicit g: IGame ): Unit = ???\n",
    "    \n",
    "    def testGutterGame( implicit g: IGame ) : TestState = {\n",
    "        rollMany( 20, 0 )\n",
    "        g.score shouldBe 0\n",
    "    }\n",
    "    \n",
    "    def testAllOnes( implicit g: IGame ) : TestState = {\n",
    "      \n",
    "        rollMany( 20, 1 )        \n",
    "        g.score shouldBe 20\n",
    "        \n",
    "    }\n",
    "    \n",
    "    \n",
    "    println ( s\"TEST :: testGutterGame() -> ${testGutterGame( setUp() )} \")\n",
    "    println ( s\"TEST :: testAllOnes()    -> ${testAllOnes(setUp())} \")\n",
    "}\n",
    "\n",
    "Test.main(Array())"
   ]
  },
  {
   "cell_type": "markdown",
   "id": "unusual-christianity",
   "metadata": {},
   "source": [
    "### Extra bonus"
   ]
  },
  {
   "cell_type": "code",
   "execution_count": null,
   "id": "informed-columbia",
   "metadata": {},
   "outputs": [],
   "source": [
    "\n",
    "implicit class IntRollOps( rolls: Int )( implicit g: IGame ) {\n",
    "    \n",
    "    import Test._\n",
    "    \n",
    "    def rollsWithPin( pins: Int ): Unit = {\n",
    "        for (_ <- 0 until rolls) {\n",
    "            g.roll(pins)            \n",
    "        }\n",
    "        \n",
    "    }\n",
    "    \n",
    "}"
   ]
  },
  {
   "cell_type": "markdown",
   "id": "streaming-mailman",
   "metadata": {},
   "source": [
    "#### Test con más azucar sintactico"
   ]
  },
  {
   "cell_type": "code",
   "execution_count": null,
   "id": "humanitarian-graph",
   "metadata": {},
   "outputs": [],
   "source": [
    "object Test extends App {\n",
    "    \n",
    "    def setUp() : IGame = new Game\n",
    " \n",
    "    def testGutterGame( implicit g: IGame ) : TestState = {\n",
    "        20 rollsWithPin 0\n",
    "        g.score shouldBe 0\n",
    "    }\n",
    "    \n",
    "    def testAllOnes( implicit g: IGame ) : TestState = {\n",
    "        20 rollsWithPin 1\n",
    "        g.score shouldBe 20\n",
    "    }\n",
    "    \n",
    "    \n",
    "    println ( s\"TEST :: testGutterGame() -> ${testGutterGame( setUp() )} \")\n",
    "    println ( s\"TEST :: testAllOnes()    -> ${testAllOnes(setUp())} \")\n",
    "}\n",
    "\n",
    "Test.main(Array())\n"
   ]
  },
  {
   "cell_type": "markdown",
   "id": "soviet-cycling",
   "metadata": {},
   "source": [
    "# Test 3\n",
    "\n",
    "Se testea la puntuación de un **_Spare_**, Tirar todos los bolos en las dos posibilidades que hay en una tirada (_Frame_). \n",
    "\n",
    "Más información en la [Wikipedia: Spare](https://es.wikipedia.org/wiki/Spare)\n",
    "\n",
    "> Un \"_spare_\" ocurre cuando no hay ningún bolo después del segundo lanzamiento de un bolo en una jugada (un jugador que utiliza los dos lanzamiento para derribar todos los bolos). Un jugador que logra un spare recibe 10 puntos más unos puntuación adicional de lo que logre en el siguiente lanzamiento (**solamente la primera bola del siguiente lanzamiento**)  \n",
    "> Ejemplo:\n",
    "> - Tirada 1, bola 1: 7 bolos\n",
    "> - Tirada 1, bola 2: 3 bolos (spare)\n",
    "> - Tirada 2, bola 1: 4 bolos\n",
    "> - Tirada 2, bola 2: 2 bolos  \n",
    "> __La puntuación total de estos lanzamientos seria: 7 + 3 + 4 (puntos adicionales) + 4 + 2 = 20__"
   ]
  },
  {
   "cell_type": "markdown",
   "id": "capital-proportion",
   "metadata": {},
   "source": [
    "## Test"
   ]
  },
  {
   "cell_type": "code",
   "execution_count": null,
   "id": "pending-dance",
   "metadata": {},
   "outputs": [],
   "source": [
    "object Test extends App {\n",
    "    \n",
    "    def setUp(): IGame = new Game\n",
    " \n",
    "    def testGutterGame( implicit g: IGame ) : TestState = {\n",
    "        20 rollsWithPin 0\n",
    "        g.score shouldBe 0\n",
    "    }\n",
    "    \n",
    "    def testAllOnes( implicit g: IGame ) : TestState = {\n",
    "        20 rollsWithPin 1\n",
    "        g.score shouldBe 20\n",
    "    }\n",
    "    \n",
    "    def testOneSpare( implicit g: IGame ) : TestState =  {\n",
    "        rollSpare\n",
    "        1 rollsWithPin 3\n",
    "        17 rollsWithPin 0\n",
    "        g.score shouldBe 16\n",
    "    }\n",
    "    \n",
    "    private def rollSpare( implicit g: IGame ): Unit =  {\n",
    "       \n",
    "       import scala.util.Random\n",
    "       \n",
    "       val firstRoll = Random.nextInt( 9 )\n",
    "              \n",
    "       1 rollsWithPin firstRoll\n",
    "       1 rollsWithPin ( 10 - firstRoll )\n",
    "       \n",
    "    }\n",
    "    \n",
    "    println ( s\"TEST :: testGutterGame() -> ${testGutterGame( setUp() )} \")\n",
    "    println ( s\"TEST :: testAllOnes()    -> ${testAllOnes(setUp())} \")\n",
    "    println ( s\"TEST :: testOneSpare()   -> ${testOneSpare(setUp())} \")\n",
    "    \n",
    "}\n",
    "\n",
    "Test.main(Array())"
   ]
  },
  {
   "cell_type": "markdown",
   "id": "secondary-hopkins",
   "metadata": {},
   "source": [
    "## Código"
   ]
  },
  {
   "cell_type": "code",
   "execution_count": null,
   "id": "metric-separate",
   "metadata": {},
   "outputs": [],
   "source": []
  },
  {
   "cell_type": "markdown",
   "id": "pretty-columbia",
   "metadata": {},
   "source": [
    "#  Test 4\n",
    "\n",
    "Se testea la puntuación de un **_Strike_**, tirar todos los bolos de una sóla tirada. [Wikipedia: Strike](https://es.wikipedia.org/wiki/Strike_(bowling))\n",
    "\n",
    "\n",
    "> _**Puntuación**_\n",
    ">\n",
    ">Cuando los diez bolos han sido totalmente derribado por la primera tirada del par de tiros de cada jugada (se >refiere que se ha realizado un strike y se presenta en la puntuación con una X), el jugador recibe 10 puntos, >más una puntuación adicional de lo que ocurra en los siguientes dos tiros. De esta manera, los puntos >obtenido con los siguientes dos tiros después del strike se contabiliza dos veces.\n",
    ">\n",
    ">        Tirada 1, bola 1: 10 bolos (strike)\n",
    ">        Tirada 2, bola 1: 3 bolos\n",
    ">        Tirada 2, bola 2: 6 bolos\n",
    ">        La puntuación total de estos tiros son:\n",
    ">\n",
    ">                Tirada 1: 10 + (3 + 6)= 19\n",
    ">                Tirada 2: 3 + 6 = 9\n",
    ">\n",
    ">                TOTAL = 28\n",
    ">\n",
    "> _**Strikes consecutivos**_\n",
    ">\n",
    ">Algunas veces los strike consecutivos son más dificultosa para calcular. Hoy en día, la mayoría de los >partidos de bolos son puntuados por ordenador que hace los cálculos mucho más fácil.\n",
    ">\n",
    ">    Un jugador que logra varios strikes consecutivo puntuaría de la siguiente forma:\n",
    ">\n",
    ">        Tirada 1, bola 1: 10 bolos (strike)\n",
    ">        Tirada 2, bola 1: 10 bolos (strike)\n",
    ">        Tirada 3, bola 1: 4 bolos\n",
    ">        Tirada 3, bola 2: 2 bolos\n",
    ">        La puntuación de estos tiros seria:\n",
    ">\n",
    ">               Tirada 1: 10 + (10 + 4)= 24\n",
    ">                Tirada 2: 10 + (4 + 2) = 16\n",
    ">                Tirada 3: 4 + 2 = 6\n",
    ">\n",
    ">                TOTAL = 46"
   ]
  },
  {
   "cell_type": "markdown",
   "id": "intermediate-creativity",
   "metadata": {},
   "source": [
    "## Test"
   ]
  },
  {
   "cell_type": "code",
   "execution_count": null,
   "id": "crazy-guitar",
   "metadata": {
    "slideshow": {
     "slide_type": "-"
    }
   },
   "outputs": [],
   "source": [
    "object Test extends App {\n",
    "    \n",
    "    def setUp(): IGame = new Game\n",
    " \n",
    "    def testGutterGame( implicit g: IGame ) : TestState = {\n",
    "        20 rollsWithPin 0\n",
    "        g.score() shouldBe 0\n",
    "    }\n",
    "    \n",
    "    def testAllOnes( implicit g: IGame ) : TestState = {\n",
    "        20 rollsWithPin 1\n",
    "        g.score() shouldBe 20\n",
    "    }\n",
    "    \n",
    "    def testOneSpare( implicit g: IGame ) : TestState =  {\n",
    "        rollSpare\n",
    "        1 rollsWithPin 3\n",
    "        17 rollsWithPin 0\n",
    "        g.score shouldBe 16\n",
    "    }\n",
    "    \n",
    "    def testOneStrike( implicit g: IGame ) : TestState =  {\n",
    "        rollStrike\n",
    "        1 rollsWithPin 3\n",
    "        1 rollsWithPin 4\n",
    "        16 rollsWithPin 0\n",
    "        g.score shouldBe 24\n",
    "    }\n",
    "    \n",
    "    private def rollSpare( implicit g: IGame ): Unit =  {\n",
    "       \n",
    "       import scala.util.Random\n",
    "       \n",
    "       val firstRoll = Random.nextInt( 9 )\n",
    "              \n",
    "       1 rollsWithPin firstRoll\n",
    "       1 rollsWithPin ( 10 - firstRoll )\n",
    "       \n",
    "    }\n",
    "    \n",
    "    private def rollStrike( implicit g: IGame ): Unit =  1 rollsWithPin 10\n",
    "    \n",
    "    println ( s\"TEST :: testGutterGame() -> ${testGutterGame( setUp() )} \")\n",
    "    println ( s\"TEST :: testAllOnes()    -> ${testAllOnes(setUp())} \")\n",
    "    println ( s\"TEST :: testOneSpare()   -> ${testOneSpare(setUp())} \")\n",
    "    println ( s\"TEST :: testOneStrike()  -> ${testOneStrike(setUp())} \")\n",
    "    \n",
    "}\n",
    "\n",
    "Test.main(Array())"
   ]
  },
  {
   "cell_type": "markdown",
   "id": "anonymous-daughter",
   "metadata": {},
   "source": [
    "## Código"
   ]
  },
  {
   "cell_type": "code",
   "execution_count": null,
   "id": "departmental-colon",
   "metadata": {},
   "outputs": [],
   "source": []
  },
  {
   "cell_type": "markdown",
   "id": "ideal-market",
   "metadata": {},
   "source": [
    "#  El Quinto Test\n",
    "\n",
    "El juego perfecto\n",
    "\n",
    "> La máxima puntuación posible son 300 puntos, y para conseguirla es necesario lograr 12 strikes consecutivos (de la tirada 1 a la 10 y sus dos adicionales correspondientes). "
   ]
  },
  {
   "cell_type": "markdown",
   "id": "delayed-three",
   "metadata": {},
   "source": [
    "## Test"
   ]
  },
  {
   "cell_type": "code",
   "execution_count": null,
   "id": "smaller-portsmouth",
   "metadata": {},
   "outputs": [],
   "source": [
    "object Test extends App {\n",
    "    \n",
    "    def setUp(): IGame = new Game\n",
    " \n",
    "    def testGutterGame( implicit g: IGame ) : TestState = {\n",
    "        20 rollsWithPin 0\n",
    "        g.score() shouldBe 0\n",
    "    }\n",
    "    \n",
    "    def testAllOnes( implicit g: IGame ) : TestState = {\n",
    "        20 rollsWithPin 1\n",
    "        g.score() shouldBe 20\n",
    "    }\n",
    "    \n",
    "    def testOneSpare( implicit g: IGame ) : TestState =  {\n",
    "        rollSpare\n",
    "        1 rollsWithPin 3\n",
    "        17 rollsWithPin 0\n",
    "        g.score shouldBe 16\n",
    "    }\n",
    "    \n",
    "    def testOneStrike( implicit g: IGame ) : TestState =  {\n",
    "        rollStrike\n",
    "        1 rollsWithPin 3\n",
    "        1 rollsWithPin 4\n",
    "        16 rollsWithPin 0\n",
    "        g.score shouldBe 24\n",
    "    }\n",
    "    \n",
    "    \n",
    "    \n",
    "    def testPerfectGame( implicit g: IGame ) : TestState =  {\n",
    "        12 rollsWithPin 10\n",
    "        g.score shouldBe 300\n",
    "    }\n",
    "    \n",
    "    private def rollSpare( implicit g: IGame ): Unit =  {\n",
    "       \n",
    "       import scala.util.Random\n",
    "       \n",
    "       val firstRoll = Random.nextInt( 9 )\n",
    "              \n",
    "       1 rollsWithPin firstRoll\n",
    "       1 rollsWithPin ( 10 - firstRoll )\n",
    "       \n",
    "    }\n",
    "    \n",
    "    private def rollStrike( implicit g: IGame ): Unit =  1 rollsWithPin 10\n",
    "    \n",
    "    println ( s\"TEST :: testGutterGame() -> ${testGutterGame( setUp() )} \")\n",
    "    println ( s\"TEST :: testAllOnes()    -> ${testAllOnes(setUp())} \")\n",
    "    println ( s\"TEST :: testOneSpare()   -> ${testOneSpare(setUp())} \")\n",
    "    println ( s\"TEST :: testOneStrike()  -> ${testOneStrike(setUp())} \")\n",
    "    println ( s\"TEST :: testPerfectGame()-> ${testPerfectGame(setUp())} \")\n",
    "    \n",
    "}\n",
    "\n",
    "Test.main(Array())"
   ]
  },
  {
   "cell_type": "markdown",
   "id": "nutritional-jaguar",
   "metadata": {},
   "source": [
    "## Código"
   ]
  },
  {
   "cell_type": "code",
   "execution_count": null,
   "id": "proud-diabetes",
   "metadata": {},
   "outputs": [],
   "source": []
  }
 ],
 "metadata": {
  "kernelspec": {
   "display_name": "spylon-kernel",
   "language": "scala",
   "name": "spylon-kernel"
  },
  "language_info": {
   "codemirror_mode": "text/x-scala",
   "file_extension": ".scala",
   "help_links": [
    {
     "text": "MetaKernel Magics",
     "url": "https://metakernel.readthedocs.io/en/latest/source/README.html"
    }
   ],
   "mimetype": "text/x-scala",
   "name": "scala",
   "pygments_lexer": "scala",
   "version": "0.4.1"
  }
 },
 "nbformat": 4,
 "nbformat_minor": 5
}
